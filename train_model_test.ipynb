{
 "cells": [
  {
   "cell_type": "code",
   "execution_count": 1,
   "metadata": {},
   "outputs": [],
   "source": [
    "import os\n",
    "import pandas as pd"
   ]
  },
  {
   "cell_type": "code",
   "execution_count": 2,
   "metadata": {},
   "outputs": [],
   "source": [
    "csv_file = \"data/stock_training_2023-01-01_2024-12-31.csv\"\n",
    "if not os.path.exists(csv_file):\n",
    "    raise FileNotFoundError(\n",
    "        f\"Please run data_fetcher.py to download the data first.\")\n",
    "else:\n",
    "    df_all = pd.read_csv(csv_file)"
   ]
  },
  {
   "cell_type": "code",
   "execution_count": 16,
   "metadata": {},
   "outputs": [],
   "source": [
    "from data.data_fetcher import get_stock_df\n",
    "from data.indicator import add_rsi\n",
    "import numpy as np\n",
    "from feature.feature import create_batch_feature, feature_names"
   ]
  },
  {
   "cell_type": "code",
   "execution_count": 13,
   "metadata": {},
   "outputs": [
    {
     "name": "stdout",
     "output_type": "stream",
     "text": [
      ">>>>>>stock:  AVGO\n",
      "Positive labels: [20 27 23 22 32 24]\n",
      "total # of data samples:  417\n"
     ]
    }
   ],
   "source": [
    "stocks = [\"AVGO\"]\n",
    "for i, stock in enumerate(stocks):\n",
    "    print(\">>>>>>stock: \", stock)\n",
    "    # try:\n",
    "    df = get_stock_df(df_all, stock)\n",
    "    features, labels, dates = create_batch_feature(df)\n",
    "    if np.isnan(features).any() or np.isnan(labels).any():\n",
    "        print(f\"NaN detected in {stock}\")\n",
    "        continue\n",
    "    if np.isinf(features).any() or np.isinf(labels).any():\n",
    "        print(f\"INF detected in {stock}\")\n",
    "        continue\n",
    "    # except:\n",
    "    #     print(f\"Error in processing {stock}\")\n",
    "    #     continue\n",
    "    if i == 0:\n",
    "        all_features, all_labels, all_dates = features, labels, dates\n",
    "    else:\n",
    "        all_features = np.concatenate((all_features, features), axis=0)\n",
    "        all_labels = np.concatenate((all_labels, labels), axis=0)\n",
    "        all_dates = np.concatenate((all_dates, dates))\n",
    "    print(\"total # of data samples: \", all_features.shape[0])\n",
    "\n",
    "    # train_loader, test_dataset, idx_test = split_train_test_data(\n",
    "    #     all_features, all_labels, batch_size=128)\n",
    "\n",
    "    # model = PredictionModel(feature_len=all_features.shape[2],\n",
    "    #                         seq_len=all_features.shape[1],\n",
    "    #                         encoder_type=ENCODER_TYPE).to(device)\n",
    "    # model.load_state_dict(torch.load('./model/model.pth'))\n",
    "    # model.eval()\n",
    "    # criterion = CustomLoss()\n",
    "\n",
    "    # total_params = sum(p.numel() for p in model.parameters())\n",
    "    # print(\"total # of model params: \", total_params)\n",
    "    # predicted_labels, pr_table, dates_table = eval_model(\n",
    "    #     model, criterion, test_dataset, all_dates[idx_test])\n",
    "    # print(pr_table)"
   ]
  },
  {
   "cell_type": "code",
   "execution_count": 15,
   "metadata": {},
   "outputs": [
    {
     "data": {
      "text/plain": [
       "(417, 30, 33)"
      ]
     },
     "execution_count": 15,
     "metadata": {},
     "output_type": "execute_result"
    }
   ],
   "source": [
    "all_features.shape"
   ]
  },
  {
   "cell_type": "code",
   "execution_count": 23,
   "metadata": {},
   "outputs": [
    {
     "data": {
      "text/html": [
       "<div>\n",
       "<style scoped>\n",
       "    .dataframe tbody tr th:only-of-type {\n",
       "        vertical-align: middle;\n",
       "    }\n",
       "\n",
       "    .dataframe tbody tr th {\n",
       "        vertical-align: top;\n",
       "    }\n",
       "\n",
       "    .dataframe thead th {\n",
       "        text-align: right;\n",
       "    }\n",
       "</style>\n",
       "<table border=\"1\" class=\"dataframe\">\n",
       "  <thead>\n",
       "    <tr style=\"text-align: right;\">\n",
       "      <th></th>\n",
       "      <th>RSI_Over_Bought_Signal_1</th>\n",
       "    </tr>\n",
       "  </thead>\n",
       "  <tbody>\n",
       "    <tr>\n",
       "      <th>17828</th>\n",
       "      <td>0</td>\n",
       "    </tr>\n",
       "    <tr>\n",
       "      <th>17829</th>\n",
       "      <td>0</td>\n",
       "    </tr>\n",
       "    <tr>\n",
       "      <th>17830</th>\n",
       "      <td>0</td>\n",
       "    </tr>\n",
       "    <tr>\n",
       "      <th>17831</th>\n",
       "      <td>0</td>\n",
       "    </tr>\n",
       "    <tr>\n",
       "      <th>17832</th>\n",
       "      <td>0</td>\n",
       "    </tr>\n",
       "    <tr>\n",
       "      <th>17833</th>\n",
       "      <td>0</td>\n",
       "    </tr>\n",
       "    <tr>\n",
       "      <th>17834</th>\n",
       "      <td>0</td>\n",
       "    </tr>\n",
       "    <tr>\n",
       "      <th>17835</th>\n",
       "      <td>0</td>\n",
       "    </tr>\n",
       "    <tr>\n",
       "      <th>17836</th>\n",
       "      <td>0</td>\n",
       "    </tr>\n",
       "    <tr>\n",
       "      <th>17837</th>\n",
       "      <td>0</td>\n",
       "    </tr>\n",
       "  </tbody>\n",
       "</table>\n",
       "</div>"
      ],
      "text/plain": [
       "       RSI_Over_Bought_Signal_1\n",
       "17828                         0\n",
       "17829                         0\n",
       "17830                         0\n",
       "17831                         0\n",
       "17832                         0\n",
       "17833                         0\n",
       "17834                         0\n",
       "17835                         0\n",
       "17836                         0\n",
       "17837                         0"
      ]
     },
     "execution_count": 23,
     "metadata": {},
     "output_type": "execute_result"
    }
   ],
   "source": [
    "df[feature_names[29:30]].head(10)"
   ]
  },
  {
   "cell_type": "code",
   "execution_count": null,
   "metadata": {},
   "outputs": [],
   "source": []
  }
 ],
 "metadata": {
  "kernelspec": {
   "display_name": "Python 3 (ipykernel)",
   "language": "python",
   "name": "python3"
  },
  "language_info": {
   "codemirror_mode": {
    "name": "ipython",
    "version": 3
   },
   "file_extension": ".py",
   "mimetype": "text/x-python",
   "name": "python",
   "nbconvert_exporter": "python",
   "pygments_lexer": "ipython3",
   "version": "3.10.12"
  }
 },
 "nbformat": 4,
 "nbformat_minor": 4
}
