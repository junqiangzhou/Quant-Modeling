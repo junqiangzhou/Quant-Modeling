{
 "cells": [
  {
   "cell_type": "code",
   "execution_count": 1,
   "metadata": {},
   "outputs": [],
   "source": [
    "import os\n",
    "import pandas as pd"
   ]
  },
  {
   "cell_type": "code",
   "execution_count": 3,
   "metadata": {},
   "outputs": [],
   "source": [
    "csv_file = \"data/stock_training_2023-01-01_2024-12-31.csv\"\n",
    "if not os.path.exists(csv_file):\n",
    "    raise FileNotFoundError(\n",
    "        f\"Please run data_fetcher.py to download the data first.\")\n",
    "else:\n",
    "    df_all = pd.read_csv(csv_file)"
   ]
  },
  {
   "cell_type": "code",
   "execution_count": null,
   "metadata": {},
   "outputs": [],
   "source": [
    "stocks = [\"TSLA\"]\n",
    "for i, stock in enumerate(stocks):\n",
    "        print(\">>>>>>stock: \", stock)\n",
    "        try:\n",
    "            df = get_stock_df(df_all, stock)\n",
    "            features, labels, dates = create_batch_feature(df)\n",
    "            if np.isnan(features).any() or np.isnan(labels).any():\n",
    "                print(f\"NaN detected in {stock}\")\n",
    "                continue\n",
    "            if np.isinf(features).any() or np.isinf(labels).any():\n",
    "                print(f\"INF detected in {stock}\")\n",
    "                continue\n",
    "        except:\n",
    "            print(f\"Error in processing {stock}\")\n",
    "            continue\n",
    "        if i == 0:\n",
    "            all_features, all_labels, all_dates = features, labels, dates\n",
    "        else:\n",
    "            all_features = np.concatenate((all_features, features), axis=0)\n",
    "            all_labels = np.concatenate((all_labels, labels), axis=0)\n",
    "            all_dates = np.concatenate((all_dates, dates))\n",
    "    print(\"total # of data samples: \", all_features.shape[0])\n",
    "\n",
    "    train_loader, test_dataset, idx_test = split_train_test_data(\n",
    "        all_features, all_labels, batch_size=128)\n",
    "\n",
    "    model = PredictionModel(feature_len=all_features.shape[2],\n",
    "                            seq_len=all_features.shape[1],\n",
    "                            encoder_type=ENCODER_TYPE).to(device)\n",
    "    model.load_state_dict(torch.load('./model/model.pth'))\n",
    "    model.eval()\n",
    "    criterion = CustomLoss()\n",
    "\n",
    "    total_params = sum(p.numel() for p in model.parameters())\n",
    "    print(\"total # of model params: \", total_params)\n",
    "    predicted_labels, pr_table, dates_table = eval_model(\n",
    "        model, criterion, test_dataset, all_dates[idx_test])\n",
    "    print(pr_table)"
   ]
  }
 ],
 "metadata": {
  "kernelspec": {
   "display_name": "Python 3 (ipykernel)",
   "language": "python",
   "name": "python3"
  },
  "language_info": {
   "codemirror_mode": {
    "name": "ipython",
    "version": 3
   },
   "file_extension": ".py",
   "mimetype": "text/x-python",
   "name": "python",
   "nbconvert_exporter": "python",
   "pygments_lexer": "ipython3",
   "version": "3.10.12"
  }
 },
 "nbformat": 4,
 "nbformat_minor": 4
}
