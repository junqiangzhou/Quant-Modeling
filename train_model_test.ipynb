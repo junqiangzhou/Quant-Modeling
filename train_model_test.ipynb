{
 "cells": [
  {
   "cell_type": "code",
   "execution_count": 1,
   "metadata": {},
   "outputs": [],
   "source": [
    "import os\n",
    "import pandas as pd\n",
    "import warnings\n",
    "warnings.filterwarnings(\"ignore\")\n",
    "warnings.simplefilter(\"ignore\", UserWarning)"
   ]
  },
  {
   "cell_type": "code",
   "execution_count": 2,
   "metadata": {},
   "outputs": [
    {
     "name": "stdout",
     "output_type": "stream",
     "text": [
      "Warning - Certain functionality \n",
      "             requires requests_html, which is not installed.\n",
      "             \n",
      "             Install using: \n",
      "             pip install requests_html\n",
      "             \n",
      "             After installation, you may have to restart your Python session.\n"
     ]
    }
   ],
   "source": [
    "from data.data_fetcher import get_stock_df, create_dataset"
   ]
  },
  {
   "cell_type": "code",
   "execution_count": 5,
   "metadata": {},
   "outputs": [
    {
     "name": "stderr",
     "output_type": "stream",
     "text": [
      "SQQQ: $SQQQ: possibly delisted; no earnings dates found\n"
     ]
    }
   ],
   "source": [
    "start_date = \"2022-01-01\"\n",
    "end_date = \"2024-12-31\"\n",
    "df = create_dataset(\"SQQQ\", start_date, end_date)"
   ]
  },
  {
   "cell_type": "code",
   "execution_count": 6,
   "metadata": {},
   "outputs": [
    {
     "data": {
      "text/html": [
       "<div>\n",
       "<style scoped>\n",
       "    .dataframe tbody tr th:only-of-type {\n",
       "        vertical-align: middle;\n",
       "    }\n",
       "\n",
       "    .dataframe tbody tr th {\n",
       "        vertical-align: top;\n",
       "    }\n",
       "\n",
       "    .dataframe thead th {\n",
       "        text-align: right;\n",
       "    }\n",
       "</style>\n",
       "<table border=\"1\" class=\"dataframe\">\n",
       "  <thead>\n",
       "    <tr style=\"text-align: right;\">\n",
       "      <th></th>\n",
       "      <th>EPS_Estimate</th>\n",
       "      <th>EPS_Reported</th>\n",
       "      <th>Surprise(%)</th>\n",
       "      <th>Earnings_Date</th>\n",
       "    </tr>\n",
       "  </thead>\n",
       "  <tbody>\n",
       "    <tr>\n",
       "      <th>2022-01-03</th>\n",
       "      <td>NaN</td>\n",
       "      <td>NaN</td>\n",
       "      <td>NaN</td>\n",
       "      <td>False</td>\n",
       "    </tr>\n",
       "    <tr>\n",
       "      <th>2022-01-04</th>\n",
       "      <td>NaN</td>\n",
       "      <td>NaN</td>\n",
       "      <td>NaN</td>\n",
       "      <td>False</td>\n",
       "    </tr>\n",
       "    <tr>\n",
       "      <th>2022-01-05</th>\n",
       "      <td>NaN</td>\n",
       "      <td>NaN</td>\n",
       "      <td>NaN</td>\n",
       "      <td>False</td>\n",
       "    </tr>\n",
       "    <tr>\n",
       "      <th>2022-01-06</th>\n",
       "      <td>NaN</td>\n",
       "      <td>NaN</td>\n",
       "      <td>NaN</td>\n",
       "      <td>False</td>\n",
       "    </tr>\n",
       "    <tr>\n",
       "      <th>2022-01-07</th>\n",
       "      <td>NaN</td>\n",
       "      <td>NaN</td>\n",
       "      <td>NaN</td>\n",
       "      <td>False</td>\n",
       "    </tr>\n",
       "    <tr>\n",
       "      <th>2022-01-10</th>\n",
       "      <td>NaN</td>\n",
       "      <td>NaN</td>\n",
       "      <td>NaN</td>\n",
       "      <td>False</td>\n",
       "    </tr>\n",
       "    <tr>\n",
       "      <th>2022-01-11</th>\n",
       "      <td>NaN</td>\n",
       "      <td>NaN</td>\n",
       "      <td>NaN</td>\n",
       "      <td>False</td>\n",
       "    </tr>\n",
       "    <tr>\n",
       "      <th>2022-01-12</th>\n",
       "      <td>NaN</td>\n",
       "      <td>NaN</td>\n",
       "      <td>NaN</td>\n",
       "      <td>False</td>\n",
       "    </tr>\n",
       "    <tr>\n",
       "      <th>2022-01-13</th>\n",
       "      <td>NaN</td>\n",
       "      <td>NaN</td>\n",
       "      <td>NaN</td>\n",
       "      <td>False</td>\n",
       "    </tr>\n",
       "    <tr>\n",
       "      <th>2022-01-14</th>\n",
       "      <td>NaN</td>\n",
       "      <td>NaN</td>\n",
       "      <td>NaN</td>\n",
       "      <td>False</td>\n",
       "    </tr>\n",
       "  </tbody>\n",
       "</table>\n",
       "</div>"
      ],
      "text/plain": [
       "            EPS_Estimate  EPS_Reported  Surprise(%)  Earnings_Date\n",
       "2022-01-03           NaN           NaN          NaN          False\n",
       "2022-01-04           NaN           NaN          NaN          False\n",
       "2022-01-05           NaN           NaN          NaN          False\n",
       "2022-01-06           NaN           NaN          NaN          False\n",
       "2022-01-07           NaN           NaN          NaN          False\n",
       "2022-01-10           NaN           NaN          NaN          False\n",
       "2022-01-11           NaN           NaN          NaN          False\n",
       "2022-01-12           NaN           NaN          NaN          False\n",
       "2022-01-13           NaN           NaN          NaN          False\n",
       "2022-01-14           NaN           NaN          NaN          False"
      ]
     },
     "execution_count": 6,
     "metadata": {},
     "output_type": "execute_result"
    }
   ],
   "source": [
    "df[['EPS_Estimate', 'EPS_Reported', 'Surprise(%)','Earnings_Date',]].head(10)"
   ]
  },
  {
   "cell_type": "code",
   "execution_count": 8,
   "metadata": {},
   "outputs": [
    {
     "data": {
      "text/plain": [
       "Index(['Open', 'High', 'Low', 'Close', 'Volume', 'Dividends', 'Stock Splits',\n",
       "       'Trading_Volume', 'MA_5', 'MA_10', 'MA_20', 'MA_50', 'MACD_12_26_9',\n",
       "       'MACDh_12_26_9', 'MACDs_12_26_9', 'STOCHk_14_3_3', 'STOCHd_14_3_3', 'J',\n",
       "       'RSI_14', 'OBV', 'VWAP', 'BB_Mid', 'BB_Std', 'BB_Upper', 'BB_Lower',\n",
       "       'ATR', 'MA_5_10_Crossover_Signal', 'MA_5_20_Crossover_Signal',\n",
       "       'MA_5_50_Crossover_Signal', 'MA_10_20_Crossover_Signal',\n",
       "       'MA_10_50_Crossover_Signal', 'MA_20_50_Crossover_Signal',\n",
       "       'MACD_Crossover_Signal', 'RSI_Over_Bought_Signal',\n",
       "       'VWAP_Crossover_Signal', 'BB_Signal', 'Price_Above_MA_5',\n",
       "       'Price_Below_MA_5', 'Open_diff', 'High_diff', 'Low_diff', 'Close_diff',\n",
       "       'Volume_diff', 'MA_5_diff', 'MA_10_diff', 'MA_20_diff', 'MA_50_diff',\n",
       "       'daily_change', 'EPS_Estimate', 'EPS_Reported', 'Surprise(%)',\n",
       "       'Earnings_Date', 'stock', 'MA_5_20_Crossover_Signal_0',\n",
       "       'MA_5_20_Crossover_Signal_-1', 'MA_5_20_Crossover_Signal_1',\n",
       "       'MA_10_50_Crossover_Signal_0', 'MA_10_50_Crossover_Signal_-1',\n",
       "       'MA_10_50_Crossover_Signal_1', 'MACD_Crossover_Signal_0',\n",
       "       'MACD_Crossover_Signal_-1', 'MACD_Crossover_Signal_1',\n",
       "       'RSI_Over_Bought_Signal_0', 'RSI_Over_Bought_Signal_-1',\n",
       "       'RSI_Over_Bought_Signal_1', 'BB_Signal_0', 'BB_Signal_-1',\n",
       "       'BB_Signal_1'],\n",
       "      dtype='object')"
      ]
     },
     "execution_count": 8,
     "metadata": {},
     "output_type": "execute_result"
    }
   ],
   "source": [
    "df.columns"
   ]
  },
  {
   "cell_type": "code",
   "execution_count": null,
   "metadata": {},
   "outputs": [],
   "source": []
  }
 ],
 "metadata": {
  "kernelspec": {
   "display_name": "Python 3 (ipykernel)",
   "language": "python",
   "name": "python3"
  },
  "language_info": {
   "codemirror_mode": {
    "name": "ipython",
    "version": 3
   },
   "file_extension": ".py",
   "mimetype": "text/x-python",
   "name": "python",
   "nbconvert_exporter": "python",
   "pygments_lexer": "ipython3",
   "version": "3.10.12"
  }
 },
 "nbformat": 4,
 "nbformat_minor": 4
}
