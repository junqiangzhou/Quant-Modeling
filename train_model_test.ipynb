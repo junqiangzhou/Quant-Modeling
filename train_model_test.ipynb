{
 "cells": [
  {
   "cell_type": "code",
   "execution_count": 1,
   "metadata": {},
   "outputs": [],
   "source": [
    "import os\n",
    "import pandas as pd"
   ]
  },
  {
   "cell_type": "code",
   "execution_count": 2,
   "metadata": {},
   "outputs": [],
   "source": [
    "csv_file = \"data/stock_training_2023-01-01_2024-12-31.csv\"\n",
    "if not os.path.exists(csv_file):\n",
    "    raise FileNotFoundError(\n",
    "        f\"Please run data_fetcher.py to download the data first.\")\n",
    "else:\n",
    "    df_all = pd.read_csv(csv_file)"
   ]
  },
  {
   "cell_type": "code",
   "execution_count": 3,
   "metadata": {},
   "outputs": [
    {
     "name": "stdout",
     "output_type": "stream",
     "text": [
      "Warning - Certain functionality \n",
      "             requires requests_html, which is not installed.\n",
      "             \n",
      "             Install using: \n",
      "             pip install requests_html\n",
      "             \n",
      "             After installation, you may have to restart your Python session.\n"
     ]
    }
   ],
   "source": [
    "from data.data_fetcher import get_stock_df\n",
    "from data.indicator import add_rsi\n",
    "import numpy as np"
   ]
  },
  {
   "cell_type": "code",
   "execution_count": 37,
   "metadata": {},
   "outputs": [],
   "source": [
    "def add_rsi(df, column='Close', period=14):\n",
    "    \"\"\"\n",
    "    Add the Relative Strength Index (RSI) for a given DataFrame.\n",
    "    \n",
    "    Parameters:\n",
    "    df (pd.DataFrame): DataFrame containing price data.\n",
    "    column (str): Column name for the closing price.\n",
    "    period (int): Lookback period for RSI calculation (default=14).\n",
    "    \n",
    "    Returns:\n",
    "    pd.Series: RSI values.\n",
    "    \"\"\"\n",
    "    delta = df[column].diff(1)  # Calculate price changes\n",
    "\n",
    "    # Separate gains and losses\n",
    "    gain = np.where(delta > 0, delta, 0)\n",
    "    loss = np.where(delta < 0, -delta, 0)\n",
    "\n",
    "    # Use exponential moving average (EMA) for stability\n",
    "    avg_gain = pd.Series(gain).ewm(span=period, min_periods=period).mean()\n",
    "    avg_loss = pd.Series(loss).ewm(span=period, min_periods=period).mean()\n",
    "    # print(avg_gain)\n",
    "    # print(avg_loss)\n",
    "\n",
    "    # Compute Relative Strength (RS)\n",
    "    rs = avg_gain / (avg_loss + 1e-10)  # Avoid division by zero\n",
    "    \n",
    "    # Compute RSI\n",
    "    rsi = 100 - (100 / (1 + rs))\n",
    "    rsi = rsi.fillna(method=\"bfill\")\n",
    "    # print(rsi.type)\n",
    "\n",
    "    df[\"RSI_14\"] = rsi.values\n",
    "    # df[\"RSI_14\"] = rsi.fillna(method=\"bfill\")\n",
    "\n",
    "    # df[\"RSI_14\"] = rsi\n",
    "\n",
    "    return df"
   ]
  },
  {
   "cell_type": "code",
   "execution_count": 38,
   "metadata": {},
   "outputs": [],
   "source": [
    "df = get_stock_df(df_all, \"GOOGL\")\n",
    "df = df.drop('RSI_14', axis=1)\n",
    "df = add_rsi(df, column='Close', period=14)"
   ]
  },
  {
   "cell_type": "code",
   "execution_count": 39,
   "metadata": {},
   "outputs": [
    {
     "data": {
      "text/plain": [
       "(500, 57)"
      ]
     },
     "execution_count": 39,
     "metadata": {},
     "output_type": "execute_result"
    }
   ],
   "source": [
    "df.shape"
   ]
  },
  {
   "cell_type": "code",
   "execution_count": 40,
   "metadata": {},
   "outputs": [
    {
     "data": {
      "text/plain": [
       "1000    73.308174\n",
       "1001    73.308174\n",
       "1002    73.308174\n",
       "1003    73.308174\n",
       "1004    73.308174\n",
       "          ...    \n",
       "1495    66.314562\n",
       "1496    68.387570\n",
       "1497    66.754179\n",
       "1498    57.872627\n",
       "1499    53.478638\n",
       "Name: RSI_14, Length: 500, dtype: float64"
      ]
     },
     "execution_count": 40,
     "metadata": {},
     "output_type": "execute_result"
    }
   ],
   "source": [
    "df[\"RSI_14\"]"
   ]
  },
  {
   "cell_type": "code",
   "execution_count": null,
   "metadata": {},
   "outputs": [],
   "source": [
    "stocks = [\"TSLA\"]\n",
    "for i, stock in enumerate(stocks):\n",
    "        print(\">>>>>>stock: \", stock)\n",
    "        try:\n",
    "            df = get_stock_df(df_all, stock)\n",
    "            features, labels, dates = create_batch_feature(df)\n",
    "            if np.isnan(features).any() or np.isnan(labels).any():\n",
    "                print(f\"NaN detected in {stock}\")\n",
    "                continue\n",
    "            if np.isinf(features).any() or np.isinf(labels).any():\n",
    "                print(f\"INF detected in {stock}\")\n",
    "                continue\n",
    "        except:\n",
    "            print(f\"Error in processing {stock}\")\n",
    "            continue\n",
    "        if i == 0:\n",
    "            all_features, all_labels, all_dates = features, labels, dates\n",
    "        else:\n",
    "            all_features = np.concatenate((all_features, features), axis=0)\n",
    "            all_labels = np.concatenate((all_labels, labels), axis=0)\n",
    "            all_dates = np.concatenate((all_dates, dates))\n",
    "    print(\"total # of data samples: \", all_features.shape[0])\n",
    "\n",
    "    train_loader, test_dataset, idx_test = split_train_test_data(\n",
    "        all_features, all_labels, batch_size=128)\n",
    "\n",
    "    model = PredictionModel(feature_len=all_features.shape[2],\n",
    "                            seq_len=all_features.shape[1],\n",
    "                            encoder_type=ENCODER_TYPE).to(device)\n",
    "    model.load_state_dict(torch.load('./model/model.pth'))\n",
    "    model.eval()\n",
    "    criterion = CustomLoss()\n",
    "\n",
    "    total_params = sum(p.numel() for p in model.parameters())\n",
    "    print(\"total # of model params: \", total_params)\n",
    "    predicted_labels, pr_table, dates_table = eval_model(\n",
    "        model, criterion, test_dataset, all_dates[idx_test])\n",
    "    print(pr_table)"
   ]
  }
 ],
 "metadata": {
  "kernelspec": {
   "display_name": "Python 3 (ipykernel)",
   "language": "python",
   "name": "python3"
  },
  "language_info": {
   "codemirror_mode": {
    "name": "ipython",
    "version": 3
   },
   "file_extension": ".py",
   "mimetype": "text/x-python",
   "name": "python",
   "nbconvert_exporter": "python",
   "pygments_lexer": "ipython3",
   "version": "3.10.12"
  }
 },
 "nbformat": 4,
 "nbformat_minor": 4
}
