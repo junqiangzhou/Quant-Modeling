{
 "cells": [
  {
   "cell_type": "code",
   "execution_count": 1,
   "metadata": {},
   "outputs": [
    {
     "name": "stdout",
     "output_type": "stream",
     "text": [
      "Warning - Certain functionality \n",
      "             requires requests_html, which is not installed.\n",
      "             \n",
      "             Install using: \n",
      "             pip install requests_html\n",
      "             \n",
      "             After installation, you may have to restart your Python session.\n"
     ]
    }
   ],
   "source": [
    "from data.data_store import create_dataset, download_data\n",
    "from feature.feature import create_batch_feature\n",
    "from model.train import train_model, eval_model\n",
    "\n",
    "import numpy as np"
   ]
  },
  {
   "cell_type": "code",
   "execution_count": 2,
   "metadata": {},
   "outputs": [
    {
     "name": "stdout",
     "output_type": "stream",
     "text": [
      ">>>>>>>>>stock:  AAPL\n"
     ]
    },
    {
     "name": "stderr",
     "output_type": "stream",
     "text": [
      "/Users/wz/Documents/Quant/Quant-Modeling/data/data_store.py:98: FutureWarning: Value based partial slicing on non-monotonic DatetimeIndexes with non-existing keys is deprecated and will raise a KeyError in a future Version.\n",
      "  earnings = earnings.loc[start_date:end_date]\n"
     ]
    },
    {
     "name": "stdout",
     "output_type": "stream",
     "text": [
      "total # of data samples:  417\n"
     ]
    }
   ],
   "source": [
    "start_date = \"2023-01-01\"\n",
    "end_date = \"2024-12-31\"\n",
    "\n",
    "stock_lists = [\"AAPL\", \"MSFT\", \"NVDA\", \"AMZN\", \"GOOG\", \"AVGO\"]\n",
    "for i, stock in enumerate(stock_lists[:1]):\n",
    "    print(\">>>>>>>>>stock: \", stock)\n",
    "    df = create_dataset(stock, start_date, end_date)\n",
    "    features, labels, dates = create_batch_feature(df)\n",
    "    if i == 0:\n",
    "        all_features, all_labels, all_dates = features, labels, dates\n",
    "    else:\n",
    "        all_features = np.concatenate((all_features, features), axis=0)\n",
    "        all_labels = np.concatenate((all_labels, labels), axis=0)\n",
    "        all_dates += dates\n",
    "print(\"total # of data samples: \", all_features.shape[0])"
   ]
  },
  {
   "cell_type": "code",
   "execution_count": 3,
   "metadata": {},
   "outputs": [
    {
     "name": "stdout",
     "output_type": "stream",
     "text": [
      "Epoch [10/100], Loss: 0.4084\n",
      "Epoch [20/100], Loss: 0.3909\n",
      "Epoch [30/100], Loss: 0.3937\n",
      "Epoch [40/100], Loss: 0.3974\n",
      "Epoch [50/100], Loss: 0.4278\n",
      "Epoch [60/100], Loss: 0.3370\n",
      "Epoch [70/100], Loss: 0.3164\n",
      "Epoch [80/100], Loss: 0.3419\n",
      "Epoch [90/100], Loss: 0.3322\n",
      "Epoch [100/100], Loss: 0.2926\n",
      "total # of model params:  281734\n"
     ]
    }
   ],
   "source": [
    "\n",
    "model, criterion, test_loader, idx_test = train_model(all_features, all_labels, latent_dim=32, hidden_dim=128, epochs=100)\n",
    "total_params = sum(p.numel() for p in model.parameters())\n",
    "print(\"total # of model params: \", total_params)\n"
   ]
  },
  {
   "cell_type": "code",
   "execution_count": 4,
   "metadata": {},
   "outputs": [
    {
     "name": "stdout",
     "output_type": "stream",
     "text": [
      "Test Loss: 0.4342\n",
      "           trend_5days+  trend_5days-  trend_10days+  trend_10days-  \\\n",
      "Precision        0.5625      0.500000       0.636364       0.375000   \n",
      "Recall           0.3750      0.222222       0.368421       0.333333   \n",
      "\n",
      "           trend_30days+  trend_30days-  \n",
      "Precision       0.500000       0.333333  \n",
      "Recall          0.294118       0.333333  \n"
     ]
    }
   ],
   "source": [
    "pr_table, dates_table = eval_model(model, criterion, test_loader, idx_test, all_dates) "
   ]
  },
  {
   "cell_type": "code",
   "execution_count": 5,
   "metadata": {},
   "outputs": [
    {
     "data": {
      "text/html": [
       "<div>\n",
       "<style scoped>\n",
       "    .dataframe tbody tr th:only-of-type {\n",
       "        vertical-align: middle;\n",
       "    }\n",
       "\n",
       "    .dataframe tbody tr th {\n",
       "        vertical-align: top;\n",
       "    }\n",
       "\n",
       "    .dataframe thead th {\n",
       "        text-align: right;\n",
       "    }\n",
       "</style>\n",
       "<table border=\"1\" class=\"dataframe\">\n",
       "  <thead>\n",
       "    <tr style=\"text-align: right;\">\n",
       "      <th></th>\n",
       "      <th>trend_5days+TP</th>\n",
       "      <th>trend_5days-TP</th>\n",
       "      <th>trend_10days+TP</th>\n",
       "      <th>trend_10days-TP</th>\n",
       "      <th>trend_30days+TP</th>\n",
       "      <th>trend_30days-TP</th>\n",
       "    </tr>\n",
       "  </thead>\n",
       "  <tbody>\n",
       "    <tr>\n",
       "      <th>0</th>\n",
       "      <td>2023-03-13</td>\n",
       "      <td>2024-01-23</td>\n",
       "      <td>2023-03-13</td>\n",
       "      <td>2024-01-23</td>\n",
       "      <td>2023-03-13</td>\n",
       "      <td>2024-01-23</td>\n",
       "    </tr>\n",
       "    <tr>\n",
       "      <th>1</th>\n",
       "      <td>2023-03-15</td>\n",
       "      <td>2024-01-26</td>\n",
       "      <td>2023-03-15</td>\n",
       "      <td>2024-01-26</td>\n",
       "      <td>2023-03-15</td>\n",
       "      <td>2024-01-26</td>\n",
       "    </tr>\n",
       "    <tr>\n",
       "      <th>2</th>\n",
       "      <td>2023-05-24</td>\n",
       "      <td>2024-08-30</td>\n",
       "      <td>2023-08-21</td>\n",
       "      <td>2024-08-30</td>\n",
       "      <td>2024-05-24</td>\n",
       "      <td>None</td>\n",
       "    </tr>\n",
       "    <tr>\n",
       "      <th>3</th>\n",
       "      <td>2023-08-21</td>\n",
       "      <td>2024-09-03</td>\n",
       "      <td>2023-09-29</td>\n",
       "      <td>None</td>\n",
       "      <td>2024-05-29</td>\n",
       "      <td>None</td>\n",
       "    </tr>\n",
       "    <tr>\n",
       "      <th>4</th>\n",
       "      <td>2023-09-29</td>\n",
       "      <td>None</td>\n",
       "      <td>2024-05-24</td>\n",
       "      <td>None</td>\n",
       "      <td>2024-07-29</td>\n",
       "      <td>None</td>\n",
       "    </tr>\n",
       "    <tr>\n",
       "      <th>5</th>\n",
       "      <td>2024-05-24</td>\n",
       "      <td>None</td>\n",
       "      <td>2024-05-29</td>\n",
       "      <td>None</td>\n",
       "      <td>None</td>\n",
       "      <td>None</td>\n",
       "    </tr>\n",
       "    <tr>\n",
       "      <th>6</th>\n",
       "      <td>2024-05-29</td>\n",
       "      <td>None</td>\n",
       "      <td>2024-07-29</td>\n",
       "      <td>None</td>\n",
       "      <td>None</td>\n",
       "      <td>None</td>\n",
       "    </tr>\n",
       "    <tr>\n",
       "      <th>7</th>\n",
       "      <td>2024-07-29</td>\n",
       "      <td>None</td>\n",
       "      <td>None</td>\n",
       "      <td>None</td>\n",
       "      <td>None</td>\n",
       "      <td>None</td>\n",
       "    </tr>\n",
       "    <tr>\n",
       "      <th>8</th>\n",
       "      <td>2024-08-15</td>\n",
       "      <td>None</td>\n",
       "      <td>None</td>\n",
       "      <td>None</td>\n",
       "      <td>None</td>\n",
       "      <td>None</td>\n",
       "    </tr>\n",
       "    <tr>\n",
       "      <th>9</th>\n",
       "      <td>None</td>\n",
       "      <td>None</td>\n",
       "      <td>None</td>\n",
       "      <td>None</td>\n",
       "      <td>None</td>\n",
       "      <td>None</td>\n",
       "    </tr>\n",
       "    <tr>\n",
       "      <th>10</th>\n",
       "      <td>None</td>\n",
       "      <td>None</td>\n",
       "      <td>None</td>\n",
       "      <td>None</td>\n",
       "      <td>None</td>\n",
       "      <td>None</td>\n",
       "    </tr>\n",
       "    <tr>\n",
       "      <th>11</th>\n",
       "      <td>None</td>\n",
       "      <td>None</td>\n",
       "      <td>None</td>\n",
       "      <td>None</td>\n",
       "      <td>None</td>\n",
       "      <td>None</td>\n",
       "    </tr>\n",
       "    <tr>\n",
       "      <th>12</th>\n",
       "      <td>None</td>\n",
       "      <td>None</td>\n",
       "      <td>None</td>\n",
       "      <td>None</td>\n",
       "      <td>None</td>\n",
       "      <td>None</td>\n",
       "    </tr>\n",
       "    <tr>\n",
       "      <th>13</th>\n",
       "      <td>None</td>\n",
       "      <td>None</td>\n",
       "      <td>None</td>\n",
       "      <td>None</td>\n",
       "      <td>None</td>\n",
       "      <td>None</td>\n",
       "    </tr>\n",
       "    <tr>\n",
       "      <th>14</th>\n",
       "      <td>None</td>\n",
       "      <td>None</td>\n",
       "      <td>None</td>\n",
       "      <td>None</td>\n",
       "      <td>None</td>\n",
       "      <td>None</td>\n",
       "    </tr>\n",
       "  </tbody>\n",
       "</table>\n",
       "</div>"
      ],
      "text/plain": [
       "   trend_5days+TP trend_5days-TP trend_10days+TP trend_10days-TP  \\\n",
       "0      2023-03-13     2024-01-23      2023-03-13      2024-01-23   \n",
       "1      2023-03-15     2024-01-26      2023-03-15      2024-01-26   \n",
       "2      2023-05-24     2024-08-30      2023-08-21      2024-08-30   \n",
       "3      2023-08-21     2024-09-03      2023-09-29            None   \n",
       "4      2023-09-29           None      2024-05-24            None   \n",
       "5      2024-05-24           None      2024-05-29            None   \n",
       "6      2024-05-29           None      2024-07-29            None   \n",
       "7      2024-07-29           None            None            None   \n",
       "8      2024-08-15           None            None            None   \n",
       "9            None           None            None            None   \n",
       "10           None           None            None            None   \n",
       "11           None           None            None            None   \n",
       "12           None           None            None            None   \n",
       "13           None           None            None            None   \n",
       "14           None           None            None            None   \n",
       "\n",
       "   trend_30days+TP trend_30days-TP  \n",
       "0       2023-03-13      2024-01-23  \n",
       "1       2023-03-15      2024-01-26  \n",
       "2       2024-05-24            None  \n",
       "3       2024-05-29            None  \n",
       "4       2024-07-29            None  \n",
       "5             None            None  \n",
       "6             None            None  \n",
       "7             None            None  \n",
       "8             None            None  \n",
       "9             None            None  \n",
       "10            None            None  \n",
       "11            None            None  \n",
       "12            None            None  \n",
       "13            None            None  \n",
       "14            None            None  "
      ]
     },
     "execution_count": 5,
     "metadata": {},
     "output_type": "execute_result"
    }
   ],
   "source": [
    "names_metrics = dates_table.columns\n",
    "columns = [i for i, name in enumerate(names_metrics) if \"TP\" in name]\n",
    "dates_table.iloc[:, columns]"
   ]
  },
  {
   "cell_type": "code",
   "execution_count": 6,
   "metadata": {},
   "outputs": [
    {
     "ename": "NameError",
     "evalue": "name 'pd' is not defined",
     "output_type": "error",
     "traceback": [
      "\u001b[0;31m---------------------------------------------------------------------------\u001b[0m",
      "\u001b[0;31mNameError\u001b[0m                                 Traceback (most recent call last)",
      "Cell \u001b[0;32mIn[6], line 2\u001b[0m\n\u001b[1;32m      1\u001b[0m label_names \u001b[38;5;241m=\u001b[39m pr_table\u001b[38;5;241m.\u001b[39mcolumns\n\u001b[0;32m----> 2\u001b[0m labels_table \u001b[38;5;241m=\u001b[39m \u001b[43mpd\u001b[49m\u001b[38;5;241m.\u001b[39mDataFrame(\n\u001b[1;32m      3\u001b[0m     data\u001b[38;5;241m=\u001b[39mlabels,\n\u001b[1;32m      4\u001b[0m     index\u001b[38;5;241m=\u001b[39mdates,\n\u001b[1;32m      5\u001b[0m     columns\u001b[38;5;241m=\u001b[39mlabel_names\n\u001b[1;32m      6\u001b[0m )\n\u001b[1;32m      7\u001b[0m start_date \u001b[38;5;241m=\u001b[39m dates_table\u001b[38;5;241m.\u001b[39miloc[\u001b[38;5;241m0\u001b[39m, \u001b[38;5;241m12\u001b[39m]\n\u001b[1;32m      8\u001b[0m end_date \u001b[38;5;241m=\u001b[39m dates_table\u001b[38;5;241m.\u001b[39miloc[\u001b[38;5;241m5\u001b[39m, \u001b[38;5;241m12\u001b[39m]\n",
      "\u001b[0;31mNameError\u001b[0m: name 'pd' is not defined"
     ]
    }
   ],
   "source": [
    "\n",
    "label_names = pr_table.columns\n",
    "labels_table = pd.DataFrame(\n",
    "    data=labels,\n",
    "    index=dates,\n",
    "    columns=label_names\n",
    ")\n",
    "start_date = dates_table.iloc[0, 12]\n",
    "end_date = dates_table.iloc[5, 12]\n",
    "labels_table.loc[start_date:end_date:10]"
   ]
  },
  {
   "cell_type": "code",
   "execution_count": null,
   "metadata": {},
   "outputs": [],
   "source": []
  }
 ],
 "metadata": {
  "kernelspec": {
   "display_name": "Python 3",
   "language": "python",
   "name": "python3"
  },
  "language_info": {
   "codemirror_mode": {
    "name": "ipython",
    "version": 3
   },
   "file_extension": ".py",
   "mimetype": "text/x-python",
   "name": "python",
   "nbconvert_exporter": "python",
   "pygments_lexer": "ipython3",
   "version": "3.9.6"
  }
 },
 "nbformat": 4,
 "nbformat_minor": 2
}
